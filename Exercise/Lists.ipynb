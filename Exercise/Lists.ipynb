{
 "cells": [
  {
   "cell_type": "markdown",
   "source": [
    "Exercise 1: Reverse a list in Python\n",
    "Given\n",
    "list1 = [100, 200, 300, 400, 500]\n",
    "Expected output:\n",
    "\n",
    "[500, 400, 300, 200, 100]"
   ],
   "metadata": {
    "collapsed": false
   },
   "id": "565f662b8010a16"
  },
  {
   "cell_type": "code",
   "execution_count": 3,
   "id": "initial_id",
   "metadata": {
    "collapsed": true,
    "ExecuteTime": {
     "end_time": "2024-04-05T19:21:35.134753Z",
     "start_time": "2024-04-05T19:21:35.130936Z"
    }
   },
   "outputs": [
    {
     "name": "stdout",
     "output_type": "stream",
     "text": [
      "[500, 400, 300, 200, 100]\n"
     ]
    }
   ],
   "source": [
    "list1 = [100, 200, 300, 400, 500]\n",
    "\n",
    "list1.reverse()\n",
    "print(list1)"
   ]
  }
 ],
 "metadata": {
  "kernelspec": {
   "display_name": "Python 3",
   "language": "python",
   "name": "python3"
  },
  "language_info": {
   "codemirror_mode": {
    "name": "ipython",
    "version": 2
   },
   "file_extension": ".py",
   "mimetype": "text/x-python",
   "name": "python",
   "nbconvert_exporter": "python",
   "pygments_lexer": "ipython2",
   "version": "2.7.6"
  }
 },
 "nbformat": 4,
 "nbformat_minor": 5
}
