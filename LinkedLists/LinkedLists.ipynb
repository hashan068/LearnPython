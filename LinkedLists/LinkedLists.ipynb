{
 "cells": [
  {
   "cell_type": "code",
   "execution_count": null,
   "metadata": {},
   "outputs": [],
   "source": []
  },
  {
   "cell_type": "markdown",
   "metadata": {},
   "source": [
    "##### Linked List Implementation in Python and Java\n",
    "* We will now implement this same linked list using Python and Java instead.\n",
    "<br>\n",
    "<br>\n",
    "\n",
    "<img src=\"image.png\">\n",
    "\n",
    "<br>\n",
    "<br>\n",
    "\n",
    "* Linked list example with addresses and values.\n",
    "* In the Python code below, the Node class represents what a node is: the node contains data and a link to the next node.\n",
    "\n",
    "* The Node class is used to to create four nodes, the nodes are then linked together, and printed at the end.\n",
    "\n",
    "* As you can see, the Python code is a lot shorter than the C code, and perhaps better if you just want to understand the concept of linked lists, and not how linked lists are stored in memory.\n",
    "\n",
    "* The Java code is very similar to the Python code. Click the \"Run Example\" button below and choose the \"Java\" tab to see the Java code."
   ]
  },
  {
   "cell_type": "code",
   "execution_count": null,
   "metadata": {},
   "outputs": [],
   "source": [
    "class Node:\n",
    "    def __init__(self, data):\n",
    "        self.data = data\n",
    "        self.next = None\n",
    "    \n",
    "node1 = Node(3)\n",
    "node2 = Node(5)\n",
    "node3 = Node(13)\n",
    "node4 = Node(2)\n",
    "\n",
    "node1.next = node2\n",
    "node2.next = node3\n",
    "node3.next = node4\n",
    "\n",
    "currentNode = node1\n",
    "while currentNode:\n",
    "    print(currentNode.data, end=\" -> \")\n",
    "    currentNode = currentNode.next\n",
    "print(\"null\")"
   ]
  }
 ],
 "metadata": {
  "language_info": {
   "name": "python"
  }
 },
 "nbformat": 4,
 "nbformat_minor": 2
}
