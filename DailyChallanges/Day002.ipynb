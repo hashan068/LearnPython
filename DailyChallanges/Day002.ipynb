{
 "cells": [
  {
   "cell_type": "code",
   "execution_count": 1,
   "id": "initial_id",
   "metadata": {
    "collapsed": true,
    "ExecuteTime": {
     "end_time": "2024-02-25T09:49:17.639029Z",
     "start_time": "2024-02-25T09:49:17.629422Z"
    }
   },
   "outputs": [
    {
     "name": "stdout",
     "output_type": "stream",
     "text": [
      "hello world\n"
     ]
    }
   ],
   "source": [
    "print(\"hello world\")"
   ]
  },
  {
   "cell_type": "code",
   "outputs": [
    {
     "name": "stdout",
     "output_type": "stream",
     "text": [
      "[ True  True]\n"
     ]
    }
   ],
   "source": [
    "import numpy\n",
    "\n",
    "print(numpy.array([4, 5]) < 6)\n",
    "numpy.array([4, 5]) < 6\n"
   ],
   "metadata": {
    "collapsed": false,
    "ExecuteTime": {
     "end_time": "2024-02-25T09:51:14.241322Z",
     "start_time": "2024-02-25T09:51:14.235802Z"
    }
   },
   "id": "3008dce68185d9",
   "execution_count": 5
  },
  {
   "cell_type": "markdown",
   "source": [
    "* type() is the second built-in function we've seen (after print()), and it's another good one to remember. It's very useful to be able to ask Python \"what kind of thing is this?\"."
   ],
   "metadata": {
    "collapsed": false
   },
   "id": "13f0b5e767654b4a"
  },
  {
   "cell_type": "code",
   "outputs": [
    {
     "data": {
      "text/plain": "numpy.ndarray"
     },
     "execution_count": 8,
     "metadata": {},
     "output_type": "execute_result"
    }
   ],
   "source": [
    "type(numpy.array([4, 5]) < 6)"
   ],
   "metadata": {
    "collapsed": false,
    "ExecuteTime": {
     "end_time": "2024-02-25T10:06:01.824943Z",
     "start_time": "2024-02-25T10:06:01.785727Z"
    }
   },
   "id": "c8676fc062de9df9",
   "execution_count": 8
  },
  {
   "cell_type": "code",
   "outputs": [
    {
     "name": "stdout",
     "output_type": "stream",
     "text": [
      "hellohellohellohellohellohellohellohellohellohellohellohellohellohello\n"
     ]
    }
   ],
   "source": [
    "print(\"hello\" * 14)"
   ],
   "metadata": {
    "collapsed": false,
    "ExecuteTime": {
     "end_time": "2024-02-25T10:02:37.662242Z",
     "start_time": "2024-02-25T10:02:37.655689Z"
    }
   },
   "id": "45883482eac6461e",
   "execution_count": 7
  },
  {
   "cell_type": "code",
   "outputs": [
    {
     "name": "stdout",
     "output_type": "stream",
     "text": [
      "Height in meters = 26.9 ?\n",
      "Height in meters = 26.9 ?\n",
      "Height in meters = 26.9 ?\n",
      "Height in meters = 26.9 ?\n",
      "Height in meters = 26.9 ?\n"
     ]
    }
   ],
   "source": [
    "hat_height_cm = 25\n",
    "my_height_cm = 190\n",
    "# How tall am I, in meters, when wearing my hat?\n",
    "total_height_meters = hat_height_cm + my_height_cm / 100\n",
    "print(\"Height in meters =\", total_height_meters, \"?\")\n",
    "\n",
    "# Using f-strings (formatted string literals):\n",
    "print(f\"Height in meters = {total_height_meters} ?\")\n",
    "\n",
    "# Using the str.format() method:\n",
    "print(\"Height in meters = {} ?\".format(total_height_meters))\n",
    "\n",
    "print(\"Height in meters = \" + str(total_height_meters) + \" ?\")\n",
    "\n",
    "###  f-strings in Python 3.6 and above:\n",
    "print(f\"Height in meters = {total_height_meters} ?\")\n",
    "\n",
    "\n",
    "# print(\"Height in meters = \" + total_height_meters + \"?\") Wrong"
   ],
   "metadata": {
    "collapsed": false,
    "ExecuteTime": {
     "end_time": "2024-02-25T10:18:35.686941Z",
     "start_time": "2024-02-25T10:18:35.675350Z"
    }
   },
   "id": "8025f75f25025d3",
   "execution_count": 13
  },
  {
   "cell_type": "code",
   "outputs": [
    {
     "name": "stdout",
     "output_type": "stream",
     "text": [
      "32\n",
      "32\n"
     ]
    }
   ],
   "source": [
    "# abs returns the absolute value of an argument:\n",
    "print(abs(32))\n",
    "print(abs(-32))"
   ],
   "metadata": {
    "collapsed": false,
    "ExecuteTime": {
     "end_time": "2024-02-25T10:19:24.839655Z",
     "start_time": "2024-02-25T10:19:24.790283Z"
    }
   },
   "id": "987fca74d93e220a",
   "execution_count": 14
  },
  {
   "cell_type": "code",
   "outputs": [
    {
     "name": "stdout",
     "output_type": "stream",
     "text": [
      "10.0\n",
      "3\n",
      "808\n"
     ]
    }
   ],
   "source": [
    "print(float(10))\n",
    "print(int(3.33))\n",
    "# They can even be called on strings!\n",
    "print(int('807') + 1)   "
   ],
   "metadata": {
    "collapsed": false,
    "ExecuteTime": {
     "end_time": "2024-02-25T10:20:04.921351Z",
     "start_time": "2024-02-25T10:20:04.909754Z"
    }
   },
   "id": "8b9407527ec06295",
   "execution_count": 15
  }
 ],
 "metadata": {
  "kernelspec": {
   "display_name": "Python 3",
   "language": "python",
   "name": "python3"
  },
  "language_info": {
   "codemirror_mode": {
    "name": "ipython",
    "version": 2
   },
   "file_extension": ".py",
   "mimetype": "text/x-python",
   "name": "python",
   "nbconvert_exporter": "python",
   "pygments_lexer": "ipython2",
   "version": "2.7.6"
  }
 },
 "nbformat": 4,
 "nbformat_minor": 5
}
