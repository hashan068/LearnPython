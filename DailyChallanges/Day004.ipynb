{
 "cells": [
  {
   "cell_type": "markdown",
   "source": [
    "### Exercise 1: Mailing Address\n",
    " (Solved, 9 Lines)\n",
    "  * Create a program that displays your name and complete mailing address.\n",
    "  * The address should be printed in the format that is normally used in the area where you live. \n",
    "  * Your program does not need to read any input from the user."
   ],
   "metadata": {
    "collapsed": false
   },
   "id": "d849c060176cc801"
  },
  {
   "cell_type": "code",
   "execution_count": 2,
   "id": "initial_id",
   "metadata": {
    "collapsed": true,
    "ExecuteTime": {
     "end_time": "2024-04-05T18:50:29.339426Z",
     "start_time": "2024-04-05T18:50:29.334907Z"
    }
   },
   "outputs": [
    {
     "name": "stdout",
     "output_type": "stream",
     "text": [
      "Hashan Ruchira\n",
      "No: 341\n",
      "Kurunegala Road \n",
      "Puttalam\n"
     ]
    }
   ],
   "source": [
    "print(\"Hashan Ruchira\\nNo: 341\\nKurunegala Road \\nPuttalam\")"
   ]
  },
  {
   "cell_type": "markdown",
   "source": [
    " ## Exercise 2: Hello\n",
    " (9 Lines)\n",
    " Write a program that asks the user to enter his or her name. The program should\n",
    " respond with a message that says hello to the user, using his or her name."
   ],
   "metadata": {
    "collapsed": false
   },
   "id": "dae9b2bdff13f091"
  },
  {
   "cell_type": "code",
   "outputs": [
    {
     "name": "stdout",
     "output_type": "stream",
     "text": [
      "hello hashan\n"
     ]
    }
   ],
   "source": [
    "name = input(\"What is Your Name: \")\n",
    "print(\"hello\"+ \" \" + name)"
   ],
   "metadata": {
    "collapsed": false,
    "ExecuteTime": {
     "end_time": "2024-04-05T18:53:54.365592Z",
     "start_time": "2024-04-05T18:53:49.848850Z"
    }
   },
   "id": "bef49f09be436a5a",
   "execution_count": 4
  },
  {
   "cell_type": "markdown",
   "source": [
    " Exercise 8: Widget sand Gizmos\n",
    " (15 Lines)\n",
    " * An online retailer sells two products: widgets and gizmos. Each widget weighs 75 grams. \n",
    " * Each gizmo weighs 112 grams. \n",
    " * Write a program that reads the number of widgets and the number of gizmos from the user.\n",
    "  * Then your program should compute and display the total weight of the parts."
   ],
   "metadata": {
    "collapsed": false
   },
   "id": "cc3c50ea176f7499"
  },
  {
   "cell_type": "code",
   "outputs": [
    {
     "name": "stdout",
     "output_type": "stream",
     "text": [
      "1270\n"
     ]
    }
   ],
   "source": [
    "widget_weight = 75\n",
    "gizmos_weight = 112\n",
    "\n",
    "no_of_widgets = int(input(\"How many wigets: \"))\n",
    "no_of_gizmos = int(input(\"How many gizmos: \"))\n",
    "\n",
    "weight = ( widget_weight * no_of_widgets ) + (gizmos_weight * no_of_gizmos )\n",
    "print(weight)"
   ],
   "metadata": {
    "collapsed": false,
    "ExecuteTime": {
     "end_time": "2024-04-05T19:01:29.113899Z",
     "start_time": "2024-04-05T19:01:25.542827Z"
    }
   },
   "id": "7dfbead431371f37",
   "execution_count": 8
  },
  {
   "cell_type": "code",
   "outputs": [],
   "source": [],
   "metadata": {
    "collapsed": false
   },
   "id": "fa70be6a4436bcfc"
  }
 ],
 "metadata": {
  "kernelspec": {
   "display_name": "Python 3",
   "language": "python",
   "name": "python3"
  },
  "language_info": {
   "codemirror_mode": {
    "name": "ipython",
    "version": 2
   },
   "file_extension": ".py",
   "mimetype": "text/x-python",
   "name": "python",
   "nbconvert_exporter": "python",
   "pygments_lexer": "ipython2",
   "version": "2.7.6"
  }
 },
 "nbformat": 4,
 "nbformat_minor": 5
}
