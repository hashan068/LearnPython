{
 "cells": [
  {
   "cell_type": "markdown",
   "id": "6de1ce8472271590",
   "metadata": {
    "collapsed": false
   },
   "source": [
    "Given a list of numbers, return whether any two sum to k. (For example, given [10, 15, 3, 7] and k = 17, return true since 10 + 7 = 17.)"
   ]
  },
  {
   "cell_type": "code",
   "execution_count": 1,
   "id": "initial_id",
   "metadata": {
    "collapsed": true,
    "is_executing": true
   },
   "outputs": [],
   "source": [
    "data = 17\n",
    "k = 17"
   ]
  },
  {
   "cell_type": "markdown",
   "id": "123e6541108d64b1",
   "metadata": {
    "collapsed": false
   },
   "source": []
  },
  {
   "cell_type": "code",
   "execution_count": 2,
   "id": "529feae51eee3dd9",
   "metadata": {
    "collapsed": false
   },
   "outputs": [],
   "source": [
    "# Brute Force\n",
    "\n",
    "def get_pair(data, k):\n",
    "    for i in range(len(data)):\n",
    "        for j in range(i+1, len(data)):\n",
    "            if data[i] + data[j] == k:\n",
    "                return (data[i], data[j])\n",
    "    return \"NA\"       "
   ]
  }
 ],
 "metadata": {
  "kernelspec": {
   "display_name": "Python 3",
   "language": "python",
   "name": "python3"
  },
  "language_info": {
   "codemirror_mode": {
    "name": "ipython",
    "version": 3
   },
   "file_extension": ".py",
   "mimetype": "text/x-python",
   "name": "python",
   "nbconvert_exporter": "python",
   "pygments_lexer": "ipython3",
   "version": "3.10.13"
  }
 },
 "nbformat": 4,
 "nbformat_minor": 5
}
