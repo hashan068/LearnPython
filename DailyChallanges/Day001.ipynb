{
 "cells": [
  {
   "cell_type": "markdown",
   "source": [
    "Given a list of numbers, return whether any two sum to k. (For example, given [10, 15, 3, 7] and k = 17, return true since 10 + 7 = 17.)"
   ],
   "metadata": {
    "collapsed": false
   },
   "id": "6de1ce8472271590"
  },
  {
   "cell_type": "code",
   "execution_count": null,
   "id": "initial_id",
   "metadata": {
    "collapsed": true,
    "is_executing": true
   },
   "outputs": [],
   "source": [
    "data = 17\n",
    "k = 17"
   ]
  },
  {
   "cell_type": "code",
   "outputs": [],
   "source": [
    "# Brute Force\n",
    "\n",
    "def get_pair(data, k):\n",
    "    for i in range(len(data)):\n",
    "        for j in range(i+1, len(data)):\n",
    "            if data[i] + data[j] == k:\n",
    "                return (data[i], data[j])\n",
    "    return \"NA\"       "
   ],
   "metadata": {
    "collapsed": false
   },
   "id": "529feae51eee3dd9"
  }
 ],
 "metadata": {
  "kernelspec": {
   "display_name": "Python 3",
   "language": "python",
   "name": "python3"
  },
  "language_info": {
   "codemirror_mode": {
    "name": "ipython",
    "version": 2
   },
   "file_extension": ".py",
   "mimetype": "text/x-python",
   "name": "python",
   "nbconvert_exporter": "python",
   "pygments_lexer": "ipython2",
   "version": "2.7.6"
  }
 },
 "nbformat": 4,
 "nbformat_minor": 5
}
