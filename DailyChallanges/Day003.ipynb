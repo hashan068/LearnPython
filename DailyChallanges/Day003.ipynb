{
 "cells": [
  {
   "cell_type": "code",
   "execution_count": 2,
   "id": "initial_id",
   "metadata": {
    "collapsed": true,
    "ExecuteTime": {
     "end_time": "2024-03-15T17:58:59.856762Z",
     "start_time": "2024-03-15T17:58:42.353384Z"
    }
   },
   "outputs": [
    {
     "name": "stdout",
     "output_type": "stream",
     "text": [
      "\n",
      "▀█▀ █░█ █▀▀   █▀█ █▀█ █ █░█ ▄▀█ ▀█▀ █▀▀   █▄▄ █ █▀▄ █▀▄ █ █▄░█ █▀▀   ▄▀█ █░█ █▀▀ ▀█▀ █ █▀█ █▄░█\n",
      "░█░ █▀█ ██▄   █▀▀ █▀▄ █ ▀▄▀ █▀█ ░█░ ██▄   █▄█ █ █▄▀ █▄▀ █ █░▀█ █▄█   █▀█ █▄█ █▄▄ ░█░ █ █▄█ █░▀█\n",
      "\n",
      "Welcome to the private bidding auction\n",
      "The highest bidder is Hashan with a $100.0\n",
      "Thank you for your participation.\n"
     ]
    }
   ],
   "source": [
    "\n",
    "logo = '''\n",
    "▀█▀ █░█ █▀▀   █▀█ █▀█ █ █░█ ▄▀█ ▀█▀ █▀▀   █▄▄ █ █▀▄ █▀▄ █ █▄░█ █▀▀   ▄▀█ █░█ █▀▀ ▀█▀ █ █▀█ █▄░█\n",
    "░█░ █▀█ ██▄   █▀▀ █▀▄ █ ▀▄▀ █▀█ ░█░ ██▄   █▄█ █ █▄▀ █▄▀ █ █░▀█ █▄█   █▀█ █▄█ █▄▄ ░█░ █ █▄█ █░▀█\n",
    "'''\n",
    "\n",
    "\n",
    "auction_info = []\n",
    "auction = True\n",
    "\n",
    "def add_new_bidder(bidder_name, bidder_amount):\n",
    "    new_bidder = {}\n",
    "    new_bidder[\"bid\"] = bidder_amount\n",
    "    new_bidder[\"name\"] = bidder_name\n",
    "    auction_info.append(new_bidder)\n",
    "\n",
    "while auction:\n",
    "    print(logo)\n",
    "    print(\"Welcome to the private bidding auction\")\n",
    "    name  = input(\"What is your name?: \").title()\n",
    "    bid = float(input(\"How much would you like to bid?: $\"))\n",
    "    add_new_bidder(bidder_name = name, bidder_amount = bid)\n",
    "\n",
    "    others = input(\"Are there any other bidders for this auction? Type 'yes' or 'no'.\\n\")\n",
    "    if others == 'no':\n",
    "        auction = False\n",
    "        highest_bidder = 0\n",
    "        count = -1\n",
    "        for e in auction_info:\n",
    "            if e['bid'] > highest_bidder:\n",
    "                highest_bidder = e['bid']\n",
    "                count += 1\n",
    "        winner = auction_info[count]['name']\n",
    "        print(f\"The highest bidder is {winner} with a ${highest_bidder}\")\n",
    "        print(\"Thank you for your participation.\")\n",
    "    else:\n",
    "        clear()"
   ]
  }
 ],
 "metadata": {
  "kernelspec": {
   "display_name": "Python 3",
   "language": "python",
   "name": "python3"
  },
  "language_info": {
   "codemirror_mode": {
    "name": "ipython",
    "version": 2
   },
   "file_extension": ".py",
   "mimetype": "text/x-python",
   "name": "python",
   "nbconvert_exporter": "python",
   "pygments_lexer": "ipython2",
   "version": "2.7.6"
  }
 },
 "nbformat": 4,
 "nbformat_minor": 5
}
