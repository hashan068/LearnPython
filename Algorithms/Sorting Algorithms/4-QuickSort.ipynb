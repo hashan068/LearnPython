{
 "cells": [
  {
   "cell_type": "markdown",
   "id": "9c15c668",
   "metadata": {},
   "source": [
    "# Quick Sort"
   ]
  },
  {
   "cell_type": "markdown",
   "id": "02a262d5",
   "metadata": {},
   "source": [
    "* As the name suggests, Quicksort is one of the fastest sorting algorithms.\n",
    "\n",
    "* The Quicksort algorithm takes an array of values, \n",
    "  chooses one of the values as the 'pivot' element, <br /> \n",
    "  and moves the other values so that lower values are on the left of the pivot element,<br /> \n",
    "  and higher values are on the right of it."
   ]
  },
  {
   "cell_type": "markdown",
   "id": "c364ffca",
   "metadata": {},
   "source": [
    "* In this tutorial the last element of the array is chosen to be the pivot element, but we could also have chosen the first element of the array, or any element in the array really.\n",
    "\n",
    "* Then, the Quicksort algorithm does the same operation recursively on the sub-arrays to the left and right side of the pivot element. This continues until the array is sorted."
   ]
  },
  {
   "cell_type": "markdown",
   "id": "a6f95f58",
   "metadata": {},
   "source": [
    "#### How it works:\n",
    "\n",
    "1. Choose a value in the array to be the pivot element.\n",
    "2. Order the rest of the array so that lower values than the pivot element are on the left, and higher values are on the right.\n",
    "3. Swap the pivot element with the first element of the higher values so that the pivot element lands in between the lower and higher values.\n",
    "4. Do the same operations (recursively) for the sub-arrays on the left and right side of the pivot element."
   ]
  },
  {
   "cell_type": "markdown",
   "id": "a79c7d97",
   "metadata": {},
   "source": [
    "#### A) Function to partition the array"
   ]
  },
  {
   "cell_type": "markdown",
   "id": "c8283001",
   "metadata": {},
   "source": [
    "* The partition function rearranges the elements in the array such that elements less than or equal to the pivot are on the left of the pivot and elements greater than the pivot are on the right. \n",
    "* The function then returns the index of the pivot in the sorted array."
   ]
  },
  {
   "cell_type": "code",
   "execution_count": null,
   "id": "80c921eb",
   "metadata": {},
   "outputs": [],
   "source": []
  },
  {
   "cell_type": "markdown",
   "id": "3a26c6c5",
   "metadata": {},
   "source": [
    "#### B) Function to perform quick sort"
   ]
  },
  {
   "cell_type": "markdown",
   "id": "30c4baf2",
   "metadata": {},
   "source": []
  },
  {
   "cell_type": "code",
   "execution_count": 4,
   "id": "initial_id",
   "metadata": {
    "ExecuteTime": {
     "end_time": "2024-05-07T18:48:19.239825Z",
     "start_time": "2024-05-07T18:48:19.218812500Z"
    },
    "collapsed": true
   },
   "outputs": [
    {
     "name": "stdout",
     "output_type": "stream",
     "text": [
      "Sorted array: [5, 11, 12, 22, 25, 34, 64, 90]\n"
     ]
    }
   ],
   "source": [
    "# Function to partition the array\n",
    "def partition(array, low, high):\n",
    "    # Selecting the last element of the array as the pivot\n",
    "    pivot = array[high]\n",
    "    # Index of the smaller element\n",
    "    i = low - 1          # ( i = 0 - 1 = -1 ) \n",
    "\n",
    "    # Traverse through all elements of the array\n",
    "    for j in range(low, high):\n",
    "        # If current element is smaller than or equal to the pivot\n",
    "        if array[j] <= pivot:\n",
    "            # Increment index of smaller element\n",
    "            i += 1\n",
    "            # Swap current element with element at index i\n",
    "            array[i], array[j] = array[j], array[i]\n",
    "\n",
    "    # Swap the pivot element with the element at index i+1\n",
    "    array[i+1], array[high] = array[high], array[i+1]\n",
    "    # Return the partitioning index\n",
    "    return i+1\n",
    "\n",
    "# Function to perform quicksort\n",
    "def quicksort(array, low=0, high=None):\n",
    "    # If high is not provided, set it to the last index of the array\n",
    "    if high is None:\n",
    "        high = len(array) - 1\n",
    "\n",
    "    # If there are elements to be sorted\n",
    "    if low < high:\n",
    "        # Get the partitioning index using partition function\n",
    "        pivot_index = partition(array, low, high)\n",
    "        # Recursively call quicksort for sub arrays\n",
    "        quicksort(array, low, pivot_index-1)\n",
    "        quicksort(array, pivot_index+1, high)\n",
    "\n",
    "# Example array\n",
    "my_array = [64, 34, 25, 12, 22, 11, 90, 5]\n",
    "# Sorting the array using quicksort\n",
    "quicksort(my_array)\n",
    "# Printing the sorted array\n",
    "print(\"Sorted array:\", my_array)\n"
   ]
  },
  {
   "cell_type": "markdown",
   "id": "232dd473166f680c",
   "metadata": {
    "collapsed": false
   },
   "source": [
    "* The 'is' operator in Python is used to check if two variables point to the same object. \n",
    "* Unlike the '==' operator, which checks if the values of two objects are equal, the 'is' operator goes one step further to ensure that they are, in fact, the exact same object."
   ]
  },
  {
   "cell_type": "markdown",
   "id": "f9c58557",
   "metadata": {},
   "source": [
    "### Purpose of the Final Swap\n",
    "The final swap ensures that after partitioning a subarray around a chosen pivot, the pivot itself is placed in its correct sorted position within the entire array. This step is crucial because:\n",
    "\n",
    "##### Correct Positioning:\n",
    "\n",
    "Quicksort works by recursively partitioning the array into smaller subarrays around a pivot, ensuring that elements less than or equal to the pivot are on the left, and elements greater than the pivot are on the right.\n",
    "After partitioning, the pivot is not yet in its final sorted position relative to the entire array. The final swap ensures it moves to the correct position.\n",
    "\n",
    "##### Maintaining Sorted Order:\n",
    "By the time the partition function completes, all elements less than or equal to the pivot are to its left, and all elements greater than the pivot are to its right.\n",
    "However, the pivot itself is still located at the end of the left partition (or the beginning of the right partition depending on implementation), not in between the two partitions where it should be to maintain sorted order.\n",
    "Completion of Partitioning:\n",
    "\n",
    "The final swap effectively places the pivot in its correct sorted position relative to the entire subarray being processed by the quicksort algorithm.\n",
    "This allows the subsequent recursive calls to correctly sort the left and right partitions of the array.\n",
    "Example Walkthrough\n",
    "Let's illustrate this with an example using the array [4, 1, 3, 9, 7] and choosing 7 as the pivot:\n",
    "\n",
    "Initial Array: [4, 1, 3, 9, 7]\n",
    "\n",
    "##### After Partitioning:\n",
    "\n",
    "Partitioning around 7 results in [4, 1, 3] (left of 7) and [9, 7] (right of 7).\n",
    "At this point, the array might look like [4, 1, 3, 7, 9] but 7 is not yet in its final sorted position.\n",
    "Final Swap:\n",
    "\n",
    "The final swap array[i + 1], array[high] = array[high], array[i + 1] ensures that 7 is moved to its correct sorted position, which is between the left and right partitions.\n",
    "After the swap, the array becomes [4, 1, 3, 7, 9], with 7 correctly positioned."
   ]
  },
  {
   "cell_type": "markdown",
   "id": "09eafc26",
   "metadata": {},
   "source": []
  },
  {
   "cell_type": "markdown",
   "id": "1e601e01",
   "metadata": {},
   "source": [
    "#### References\n",
    "\n",
    "W3Schools.com. (2024). W3schools.com. https://www.w3schools.com/dsa/dsa_algo_quicksort.php\n",
    "\n",
    "‌"
   ]
  }
 ],
 "metadata": {
  "kernelspec": {
   "display_name": "Python 3",
   "language": "python",
   "name": "python3"
  },
  "language_info": {
   "codemirror_mode": {
    "name": "ipython",
    "version": 2
   },
   "file_extension": ".py",
   "mimetype": "text/x-python",
   "name": "python",
   "nbconvert_exporter": "python",
   "pygments_lexer": "ipython2",
   "version": "2.7.6"
  }
 },
 "nbformat": 4,
 "nbformat_minor": 5
}
