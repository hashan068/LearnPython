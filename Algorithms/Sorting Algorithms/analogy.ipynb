{
 "cells": [
  {
   "cell_type": "markdown",
   "metadata": {},
   "source": [
    "#### Arrays\n",
    "* Analogy: Think of an array as a row of lockers, each identified by a number. You can store items in each locker and retrieve them using their numbers.\n",
    "\n",
    "#### 1 - Bubble Sort\n",
    "Analogy: \n",
    "* Imagine bubbling up in a fizzy drink. The lighter bubbles (smaller numbers) rise to the top, and the heavier ones (larger numbers) sink. \n",
    "\n",
    "* Repeatedly compare adjacent elements and swap them if they are in the wrong order, just like bubbles rising to their correct positions.\n",
    "\n",
    "#### 2 - Selection Sort\n",
    "Analogy: \n",
    "* Think of organizing books on a shelf. First, you find the smallest book and place it at the beginning of the shelf. \n",
    "* Then, you find the next smallest book and place it next, continuing this process until all books are sorted.\n",
    "\n",
    "Insertion Sort\n",
    "Analogy: Imagine sorting playing cards in your hand. You pick up each card one by one and insert it into its correct position among the already sorted cards.\n",
    "\n",
    "Quick Sort\n",
    "Analogy: Think of organizing a group of people by height. Choose a person as a pivot and ask everyone to split into two groups: shorter than the pivot and taller than the pivot. Repeat this process for each group until everyone is in the correct order.\n",
    "\n",
    "Counting Sort\n",
    "Analogy: Imagine sorting colored balls by counting the number of each color. First, count how many balls of each color you have, and then place them in the correct order based on the count.\n",
    "\n",
    "Radix Sort\n",
    "Analogy: Think of sorting a deck of cards by suits and then by ranks within each suit. First, sort by the least significant digit (e.g., units place), then by the next significant digit (e.g., tens place), and so on.\n",
    "\n",
    "Merge Sort\n",
    "Analogy: Imagine organizing a shuffled deck of cards. Divide the deck into two halves, sort each half, and then merge the two sorted halves back together, repeating this process until the entire deck is sorted.\n",
    "\n",
    "Linear Search\n",
    "Analogy: Think of finding a book in a row of books by checking each one sequentially from the beginning until you find the book you're looking for.\n",
    "\n",
    "Binary Search\n",
    "Analogy: Imagine finding a word in a dictionary. Open it to the middle page and decide if the word comes before or after. Repeat the process, halving the remaining pages each time, until you find the word."
   ]
  },
  {
   "cell_type": "code",
   "execution_count": null,
   "metadata": {},
   "outputs": [],
   "source": []
  }
 ],
 "metadata": {
  "language_info": {
   "name": "python"
  }
 },
 "nbformat": 4,
 "nbformat_minor": 2
}
