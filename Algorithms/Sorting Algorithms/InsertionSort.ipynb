{
 "cells": [
  {
   "cell_type": "code",
   "execution_count": null,
   "id": "initial_id",
   "metadata": {
    "collapsed": true
   },
   "outputs": [],
   "source": [
    "my_array = [64, 34, 25, 12, 22, 11, 90, 5]\n",
    "n = len(my_array)\n",
    "for i in range(n);\n",
    "    min_index = i\n",
    "    if my_array[min_index] > my_array[i+1];\n",
    "        for j in range(i);\n",
    "            if my_array[j] < my_array[i+1]\n",
    "            \n",
    "    \n",
    "        "
   ]
  }
 ],
 "metadata": {
  "kernelspec": {
   "display_name": "Python 3",
   "language": "python",
   "name": "python3"
  },
  "language_info": {
   "codemirror_mode": {
    "name": "ipython",
    "version": 2
   },
   "file_extension": ".py",
   "mimetype": "text/x-python",
   "name": "python",
   "nbconvert_exporter": "python",
   "pygments_lexer": "ipython2",
   "version": "2.7.6"
  }
 },
 "nbformat": 4,
 "nbformat_minor": 5
}
