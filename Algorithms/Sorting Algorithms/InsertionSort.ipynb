{
 "cells": [
  {
   "cell_type": "code",
   "outputs": [],
   "source": [
    "my_array = [64, 34, 25, 12, 22, 11, 90, 5]\n",
    "\n",
    "n = len(my_array)\n",
    "\n",
    "for i in range(1, n):\n",
    "        insert_index = i\n",
    "        \n",
    "\n",
    "\n"
   ],
   "metadata": {
    "collapsed": false
   },
   "id": "4ddfd58046e638c9"
  },
  {
   "cell_type": "code",
   "execution_count": 1,
   "id": "initial_id",
   "metadata": {
    "collapsed": true,
    "ExecuteTime": {
     "end_time": "2024-04-26T16:46:09.685330Z",
     "start_time": "2024-04-26T16:46:09.663534Z"
    }
   },
   "outputs": [
    {
     "name": "stdout",
     "output_type": "stream",
     "text": [
      "[5, 5, 5, 5, 5, 5, 90, 5]\n"
     ]
    }
   ],
   "source": [
    "my_array = [64, 34, 25, 12, 22, 11, 90, 5]\n",
    "n = len(my_array)\n",
    "for i in range(n-1):\n",
    "    min_index = i\n",
    "    if my_array[min_index] > my_array[i+1]:\n",
    "        for j in range(i):\n",
    "            if my_array[i+1] < my_array[j]:\n",
    "                a = my_array[i+1]\n",
    "                b = my_array[j]\n",
    "                my_array[j] = a\n",
    "                for k in range(j,i+1):\n",
    "                    my_array[j], my_array[i+1] = my_array[i+1], my_array[j]\n",
    "            \n",
    "print(my_array)   \n",
    "        "
   ]
  }
 ],
 "metadata": {
  "kernelspec": {
   "display_name": "Python 3",
   "language": "python",
   "name": "python3"
  },
  "language_info": {
   "codemirror_mode": {
    "name": "ipython",
    "version": 2
   },
   "file_extension": ".py",
   "mimetype": "text/x-python",
   "name": "python",
   "nbconvert_exporter": "python",
   "pygments_lexer": "ipython2",
   "version": "2.7.6"
  }
 },
 "nbformat": 4,
 "nbformat_minor": 5
}
