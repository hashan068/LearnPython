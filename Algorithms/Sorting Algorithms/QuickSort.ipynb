{
 "cells": [
  {
   "cell_type": "code",
   "execution_count": 4,
   "id": "initial_id",
   "metadata": {
    "collapsed": true,
    "ExecuteTime": {
     "end_time": "2024-05-07T18:48:19.239825Z",
     "start_time": "2024-05-07T18:48:19.218812500Z"
    }
   },
   "outputs": [
    {
     "name": "stdout",
     "output_type": "stream",
     "text": [
      "Sorted array: [5, 11, 12, 22, 25, 34, 64, 90]\n"
     ]
    }
   ],
   "source": [
    "# Function to partition the array\n",
    "def partition(array, low, high):\n",
    "    # Selecting the last element of the array as the pivot\n",
    "    pivot = array[high]\n",
    "    # Index of the smaller element\n",
    "    i = low - 1\n",
    "\n",
    "    # Traverse through all elements of the array\n",
    "    for j in range(low, high):\n",
    "        # If current element is smaller than or equal to the pivot\n",
    "        if array[j] <= pivot:\n",
    "            # Increment index of smaller element\n",
    "            i += 1\n",
    "            # Swap current element with element at index i\n",
    "            array[i], array[j] = array[j], array[i]\n",
    "\n",
    "    # Swap the pivot element with the element at index i+1\n",
    "    array[i+1], array[high] = array[high], array[i+1]\n",
    "    # Return the partitioning index\n",
    "    return i+1\n",
    "\n",
    "# Function to perform quicksort\n",
    "def quicksort(array, low=0, high=None):\n",
    "    # If high is not provided, set it to the last index of the array\n",
    "    if high is None:\n",
    "        high = len(array) - 1\n",
    "\n",
    "    # If there are elements to be sorted\n",
    "    if low < high:\n",
    "        # Get the partitioning index using partition function\n",
    "        pivot_index = partition(array, low, high)\n",
    "        # Recursively call quicksort for sub arrays\n",
    "        quicksort(array, low, pivot_index-1)\n",
    "        quicksort(array, pivot_index+1, high)\n",
    "\n",
    "# Example array\n",
    "my_array = [64, 34, 25, 12, 22, 11, 90, 5]\n",
    "# Sorting the array using quicksort\n",
    "quicksort(my_array)\n",
    "# Printing the sorted array\n",
    "print(\"Sorted array:\", my_array)\n"
   ]
  },
  {
   "cell_type": "markdown",
   "source": [
    "* The 'is' operator in Python is used to check if two variables point to the same object. \n",
    "* Unlike the '==' operator, which checks if the values of two objects are equal, the 'is' operator goes one step further to ensure that they are, in fact, the exact same object."
   ],
   "metadata": {
    "collapsed": false
   },
   "id": "232dd473166f680c"
  }
 ],
 "metadata": {
  "kernelspec": {
   "display_name": "Python 3",
   "language": "python",
   "name": "python3"
  },
  "language_info": {
   "codemirror_mode": {
    "name": "ipython",
    "version": 2
   },
   "file_extension": ".py",
   "mimetype": "text/x-python",
   "name": "python",
   "nbconvert_exporter": "python",
   "pygments_lexer": "ipython2",
   "version": "2.7.6"
  }
 },
 "nbformat": 4,
 "nbformat_minor": 5
}
