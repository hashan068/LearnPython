{
 "cells": [
  {
   "cell_type": "code",
   "execution_count": 5,
   "id": "initial_id",
   "metadata": {
    "collapsed": true,
    "ExecuteTime": {
     "end_time": "2024-04-07T10:07:40.901401Z",
     "start_time": "2024-04-07T10:07:40.897458Z"
    }
   },
   "outputs": [],
   "source": [
    "my_list = [3, 9, 5, 2, 7]\n",
    "\n",
    "list2 = [2, 3, 5, 7, 9]"
   ]
  },
  {
   "cell_type": "code",
   "outputs": [
    {
     "name": "stdout",
     "output_type": "stream",
     "text": [
      "[3, 9, 5, 2, 7]\n"
     ]
    }
   ],
   "source": [
    "print(my_list)"
   ],
   "metadata": {
    "collapsed": false,
    "ExecuteTime": {
     "end_time": "2024-04-07T10:07:42.979367Z",
     "start_time": "2024-04-07T10:07:42.974369Z"
    }
   },
   "id": "262469601edea3b1",
   "execution_count": 6
  },
  {
   "cell_type": "markdown",
   "source": [
    "## Selection Sort\n",
    "\n",
    "* The Selection Sort algorithm finds the lowest value in an array and moves it to the front of the array.\n",
    "\n",
    "#### How it works:\n",
    "\n",
    "1. Go through the array to find the lowest value.\n",
    "2. Move the lowest value to the front of the unsorted part of the array.\n",
    "3. Go through the array again as many times as there are values in the array."
   ],
   "metadata": {
    "collapsed": false
   },
   "id": "949951422dd2df2b"
  },
  {
   "cell_type": "code",
   "outputs": [
    {
     "name": "stdout",
     "output_type": "stream",
     "text": [
      "[5, 11, 12, 22, 25, 34, 64, 90]\n"
     ]
    }
   ],
   "source": [
    "# Selection Sort Implementation\n",
    "\n",
    "my_array = [64, 34, 25, 5, 22, 11, 90, 12]\n",
    "\n",
    "n = len(my_array)\n",
    "\n",
    "for i in range(n - 1):\n",
    "    min_index = i\n",
    "    for j in range(i + 1, n):\n",
    "        if my_array[j] < my_array[min_index]:\n",
    "            min_index = j\n",
    "    min_value = my_array.pop(min_index)\n",
    "    my_array.insert(i, min_value)\n",
    "print(my_array)\n",
    "\n",
    "\n"
   ],
   "metadata": {
    "collapsed": false,
    "ExecuteTime": {
     "end_time": "2024-04-10T19:21:16.316640Z",
     "start_time": "2024-04-10T19:21:16.268890Z"
    }
   },
   "id": "76c525003f3fc7af",
   "execution_count": 2
  },
  {
   "cell_type": "markdown",
   "source": [
    "Solution: Swap Values!\n",
    "Instead of all the shifting, swap the lowest value (5) with the first value (64) like below.\n",
    "\n",
    "Shifting other elements when an array element is inserted.\n",
    "We can swap values like the image above shows because the lowest value ends up in the correct position, and it does not matter where we put the other value we are swapping with, because it is not sorted yet.\n",
    "\n",
    "Here is a simulation that shows how this improved Selection Sort with swapping works:"
   ],
   "metadata": {
    "collapsed": false
   },
   "id": "ba482bc028fcd0e3"
  },
  {
   "cell_type": "code",
   "outputs": [
    {
     "name": "stdout",
     "output_type": "stream",
     "text": [
      "Sorted array: [5, 11, 12, 22, 25, 34, 64, 90]\n"
     ]
    }
   ],
   "source": [
    "my_array = [64, 34, 25, 12, 22, 11, 90, 5]\n",
    "\n",
    "n = len(my_array)\n",
    "for i in range(n):\n",
    "    min_index = i\n",
    "    for j in range(i+1, n):\n",
    "        if my_array[j] < my_array[min_index]:\n",
    "            min_index = j\n",
    "    my_array[i], my_array[min_index] = my_array[min_index], my_array[i]\n",
    "\n",
    "print(\"Sorted array:\", my_array)"
   ],
   "metadata": {
    "collapsed": false,
    "ExecuteTime": {
     "end_time": "2024-04-10T19:24:41.953369Z",
     "start_time": "2024-04-10T19:24:41.936416Z"
    }
   },
   "id": "d898185ecc7933f6",
   "execution_count": 3
  },
  {
   "cell_type": "code",
   "outputs": [
    {
     "name": "stdout",
     "output_type": "stream",
     "text": [
      "[2, 3, 5, 7, 9]\n"
     ]
    }
   ],
   "source": [
    "my_list = [3, 9, 5, 2, 7]\n",
    "sorted_list = []\n",
    "length = len(my_list)\n",
    "\n",
    "for i in range(length):\n",
    "    x = min(my_list[i:])  # Adjust the slicing range\n",
    "    y = my_list.index(x, i)  # Start searching for the minimum value from index i\n",
    "    my_list[i], my_list[y] = my_list[y], my_list[i]  # Swap the elements\n",
    "    sorted_list.append(x)\n",
    "\n",
    "print(sorted_list)\n"
   ],
   "metadata": {
    "collapsed": false,
    "ExecuteTime": {
     "end_time": "2024-04-07T10:58:42.065306Z",
     "start_time": "2024-04-07T10:58:42.056610Z"
    }
   },
   "id": "eb76ad2199ab3df0",
   "execution_count": 37
  },
  {
   "cell_type": "markdown",
   "source": [
    "Changes made:\n",
    "\n",
    "Initialized sorted_list as an empty list before use.\n",
    "Adjusted the slicing range in min(my_list[i:]) to start from the current index i.\n",
    "Used my_list.index(x, i) to start searching for the minimum value from index i.\n",
    "Swapped elements using tuple assignment my_list[i], my_list[y] = my_list[y], my_list[i] to properly sort the list in place."
   ],
   "metadata": {
    "collapsed": false
   },
   "id": "ea5ec36f36b10862"
  },
  {
   "cell_type": "code",
   "outputs": [
    {
     "name": "stdout",
     "output_type": "stream",
     "text": [
      "2\n",
      "0\n",
      "5\n",
      "1\n",
      "7\n",
      "2\n"
     ]
    },
    {
     "ename": "ValueError",
     "evalue": "min() arg is an empty sequence",
     "output_type": "error",
     "traceback": [
      "\u001B[1;31m---------------------------------------------------------------------------\u001B[0m",
      "\u001B[1;31mValueError\u001B[0m                                Traceback (most recent call last)",
      "Cell \u001B[1;32mIn[36], line 9\u001B[0m\n\u001B[0;32m      5\u001B[0m a \u001B[38;5;241m=\u001B[39m \u001B[38;5;241m0\u001B[39m\n\u001B[0;32m      6\u001B[0m \u001B[38;5;28;01mfor\u001B[39;00m i \u001B[38;5;129;01min\u001B[39;00m \u001B[38;5;28mrange\u001B[39m (length):\n\u001B[0;32m      7\u001B[0m     \u001B[38;5;66;03m# print(i)\u001B[39;00m\n\u001B[0;32m      8\u001B[0m     \u001B[38;5;66;03m# print(my_list)\u001B[39;00m\n\u001B[1;32m----> 9\u001B[0m     x \u001B[38;5;241m=\u001B[39m \u001B[38;5;28;43mmin\u001B[39;49m\u001B[43m(\u001B[49m\u001B[43mmy_list\u001B[49m\u001B[43m[\u001B[49m\u001B[43ma\u001B[49m\u001B[43m:\u001B[49m\u001B[43m]\u001B[49m\u001B[43m)\u001B[49m\n\u001B[0;32m     10\u001B[0m     \u001B[38;5;28mprint\u001B[39m(x)\n\u001B[0;32m     11\u001B[0m     \u001B[38;5;28mprint\u001B[39m(a)\n",
      "\u001B[1;31mValueError\u001B[0m: min() arg is an empty sequence"
     ]
    }
   ],
   "source": [
    "sorted_list = []\n",
    "length = len(my_list)\n",
    "# print(len(my_list))\n",
    "my_list = [3, 9, 5, 2, 7]\n",
    "a = 0\n",
    "for i in range (length):\n",
    "    # print(i)\n",
    "    # print(my_list)\n",
    "    x = min(my_list[a:])\n",
    "    print(x)\n",
    "    print(a)\n",
    "    y = my_list.index(x)\n",
    "    my_list.pop(y)\n",
    "    sorted_list.append(x)\n",
    "    a = a+1\n",
    "print(sorted_list) "
   ],
   "metadata": {
    "collapsed": false,
    "ExecuteTime": {
     "end_time": "2024-04-07T10:57:21.298653Z",
     "start_time": "2024-04-07T10:57:21.146090Z"
    }
   },
   "id": "5b8d1c1ad4d45306",
   "execution_count": 36
  }
 ],
 "metadata": {
  "kernelspec": {
   "display_name": "Python 3",
   "language": "python",
   "name": "python3"
  },
  "language_info": {
   "codemirror_mode": {
    "name": "ipython",
    "version": 2
   },
   "file_extension": ".py",
   "mimetype": "text/x-python",
   "name": "python",
   "nbconvert_exporter": "python",
   "pygments_lexer": "ipython2",
   "version": "2.7.6"
  }
 },
 "nbformat": 4,
 "nbformat_minor": 5
}
