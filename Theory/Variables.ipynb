{
 "cells": [
  {
   "cell_type": "markdown",
   "source": [
    "# Variables\n",
    "\n",
    "* Variables are used to store information to be referenced and manipulated in a computer program. \n",
    "* They also provide a way of labeling data with a descriptive name, so our programs can be understood more clearly by the reader and ourselves. \n",
    "* It is helpful to think of variables as containers that hold information. \n",
    "* Their sole purpose is to label and store data in memory. This data can then be used throughout your program.\n",
    "\n",
    "Visit the following resources to learn more:\n",
    "\n",
    "Variables in Python\n",
    "W3Schools — Python Variables\n",
    "Python Variables - Geeks for Geeks\n",
    "Python Data Types\n",
    "Basic Data Types in Python\n",
    "Python for Beginners: Data Types\n",
    "Python Variables - Python Tutorial for Beginners with Examples | Mosh"
   ],
   "metadata": {
    "collapsed": false
   },
   "id": "1bbbba8b547bf1a"
  },
  {
   "cell_type": "code",
   "execution_count": null,
   "id": "initial_id",
   "metadata": {
    "collapsed": true
   },
   "outputs": [],
   "source": []
  }
 ],
 "metadata": {
  "kernelspec": {
   "display_name": "Python 3",
   "language": "python",
   "name": "python3"
  },
  "language_info": {
   "codemirror_mode": {
    "name": "ipython",
    "version": 2
   },
   "file_extension": ".py",
   "mimetype": "text/x-python",
   "name": "python",
   "nbconvert_exporter": "python",
   "pygments_lexer": "ipython2",
   "version": "2.7.6"
  }
 },
 "nbformat": 4,
 "nbformat_minor": 5
}
