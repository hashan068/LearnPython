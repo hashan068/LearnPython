{
 "cells": [
  {
   "cell_type": "markdown",
   "source": [
    "# Python Lambdas\n",
    "Python Lambda Functions are anonymous function means that the function is without a name. As we already know that the def keyword is used to define a normal function in Python. Similarly, the lambda keyword is used to define an anonymous function in Python.\n",
    "\n",
    "Visit the following resources to learn more:\n",
    "\n",
    "Lambdas in Python\n",
    "How to use Lambda functions\n",
    "Python Lambda Functions"
   ],
   "metadata": {
    "collapsed": false
   },
   "id": "7ee349f0b722ac64"
  },
  {
   "cell_type": "markdown",
   "source": [
    "https://www.w3schools.com/python/python_lambda.asp\n",
    "\n",
    "https://www.kaggle.com/code/dskagglemt/python-lambda-function"
   ],
   "metadata": {
    "collapsed": false
   },
   "id": "8bc67c2836050c69"
  },
  {
   "cell_type": "markdown",
   "source": [
    "A lambda function is a small anonymous function.\n",
    "\n",
    "A lambda function can take any number of arguments, but can only have one expression."
   ],
   "metadata": {
    "collapsed": false
   },
   "id": "66c464f014094137"
  },
  {
   "cell_type": "markdown",
   "source": [
    "Syntax\n",
    "lambda arguments : expression\n",
    "The expression is executed and the result is returned:"
   ],
   "metadata": {
    "collapsed": false
   },
   "id": "fa714843aefed76a"
  },
  {
   "cell_type": "code",
   "execution_count": 1,
   "id": "initial_id",
   "metadata": {
    "collapsed": true,
    "ExecuteTime": {
     "end_time": "2024-04-05T19:06:56.591115Z",
     "start_time": "2024-04-05T19:06:56.581758Z"
    }
   },
   "outputs": [
    {
     "name": "stdout",
     "output_type": "stream",
     "text": [
      "15\n"
     ]
    }
   ],
   "source": [
    "# Example\n",
    "\n",
    "# Add 10 to argument a and return the result:\n",
    "\n",
    "x = lambda a: a + 10\n",
    "print(x(5))\n"
   ]
  },
  {
   "cell_type": "markdown",
   "source": [
    "Lambda functions can take any number of arguments:"
   ],
   "metadata": {
    "collapsed": false
   },
   "id": "56ba2e69da7b84d6"
  },
  {
   "cell_type": "code",
   "outputs": [
    {
     "name": "stdout",
     "output_type": "stream",
     "text": [
      "30\n"
     ]
    }
   ],
   "source": [
    "x = lambda a, b : a * b\n",
    "print(x(5, 6))"
   ],
   "metadata": {
    "collapsed": false,
    "ExecuteTime": {
     "end_time": "2024-04-05T19:09:04.243079Z",
     "start_time": "2024-04-05T19:09:04.208590Z"
    }
   },
   "id": "5135660f9f5c254",
   "execution_count": 2
  },
  {
   "cell_type": "markdown",
   "source": [
    "Example\n",
    "Summarize argument a, b, and c and return the result:"
   ],
   "metadata": {
    "collapsed": false
   },
   "id": "5c8fdbed5d5875b2"
  },
  {
   "cell_type": "code",
   "outputs": [
    {
     "name": "stdout",
     "output_type": "stream",
     "text": [
      "13\n"
     ]
    }
   ],
   "source": [
    "x = lambda a, b, c : a + b + c\n",
    "print(x(5, 6, 2))"
   ],
   "metadata": {
    "collapsed": false,
    "ExecuteTime": {
     "end_time": "2024-04-05T19:09:38.244768Z",
     "start_time": "2024-04-05T19:09:38.238880Z"
    }
   },
   "id": "9c0be5b045faf4b7",
   "execution_count": 3
  },
  {
   "cell_type": "markdown",
   "source": [
    "Why Use Lambda Functions?\n",
    "The power of lambda is better shown when you use them as an anonymous function inside another function.\n",
    "\n",
    "Say you have a function definition that takes one argument, and that argument will be multiplied with an unknown number:"
   ],
   "metadata": {
    "collapsed": false
   },
   "id": "27cb57cbb2bcc775"
  },
  {
   "cell_type": "code",
   "outputs": [],
   "source": [
    "def myfunc(n):\n",
    "    return lambda a : a * n"
   ],
   "metadata": {
    "collapsed": false,
    "ExecuteTime": {
     "end_time": "2024-04-05T19:10:37.667719Z",
     "start_time": "2024-04-05T19:10:37.658490Z"
    }
   },
   "id": "851a04c64edb0023",
   "execution_count": 4
  },
  {
   "cell_type": "markdown",
   "source": [
    "Use that function definition to make a function that always doubles the number you send in:"
   ],
   "metadata": {
    "collapsed": false
   },
   "id": "d5845bd880f5364e"
  },
  {
   "cell_type": "code",
   "outputs": [],
   "source": [],
   "metadata": {
    "collapsed": false
   },
   "id": "a05822905c468387"
  },
  {
   "cell_type": "code",
   "outputs": [
    {
     "name": "stdout",
     "output_type": "stream",
     "text": [
      "22\n"
     ]
    }
   ],
   "source": [
    "def myfunc(n):\n",
    "  return lambda a : a * n\n",
    "\n",
    "mydoubler = myfunc(2)\n",
    "\n",
    "print(mydoubler(11))"
   ],
   "metadata": {
    "collapsed": false,
    "ExecuteTime": {
     "end_time": "2024-04-05T19:10:54.808192Z",
     "start_time": "2024-04-05T19:10:54.802735Z"
    }
   },
   "id": "d217839281d9f72a",
   "execution_count": 6
  },
  {
   "cell_type": "markdown",
   "source": [
    "Or, use the same function definition to make a function that always triples the number you send in:"
   ],
   "metadata": {
    "collapsed": false
   },
   "id": "64ec016f61908324"
  },
  {
   "cell_type": "code",
   "outputs": [
    {
     "name": "stdout",
     "output_type": "stream",
     "text": [
      "33\n"
     ]
    }
   ],
   "source": [
    "def myfunc(n):\n",
    "    return lambda a : a * n\n",
    "\n",
    "mytripler = myfunc(3)\n",
    "\n",
    "print(mytripler(11))"
   ],
   "metadata": {
    "collapsed": false,
    "ExecuteTime": {
     "end_time": "2024-04-05T19:12:18.818615Z",
     "start_time": "2024-04-05T19:12:18.791199Z"
    }
   },
   "id": "8d7481b7d400891f",
   "execution_count": 7
  },
  {
   "cell_type": "markdown",
   "source": [
    "Or, use the same function definition to make both functions, in the same program:"
   ],
   "metadata": {
    "collapsed": false
   },
   "id": "9f1bf4bf23c0655b"
  },
  {
   "cell_type": "code",
   "outputs": [
    {
     "name": "stdout",
     "output_type": "stream",
     "text": [
      "22\n",
      "33\n"
     ]
    }
   ],
   "source": [
    "## Example\n",
    "\n",
    "def myfunc(n):\n",
    "    return lambda a : a * n\n",
    "\n",
    "mydoubler = myfunc(2)\n",
    "mytripler = myfunc(3)\n",
    "\n",
    "print(mydoubler(11))\n",
    "print(mytripler(11))"
   ],
   "metadata": {
    "collapsed": false,
    "ExecuteTime": {
     "end_time": "2024-04-05T19:12:44.369292Z",
     "start_time": "2024-04-05T19:12:44.363923Z"
    }
   },
   "id": "225c8084c1e99b2c",
   "execution_count": 8
  }
 ],
 "metadata": {
  "kernelspec": {
   "display_name": "Python 3",
   "language": "python",
   "name": "python3"
  },
  "language_info": {
   "codemirror_mode": {
    "name": "ipython",
    "version": 2
   },
   "file_extension": ".py",
   "mimetype": "text/x-python",
   "name": "python",
   "nbconvert_exporter": "python",
   "pygments_lexer": "ipython2",
   "version": "2.7.6"
  }
 },
 "nbformat": 4,
 "nbformat_minor": 5
}
